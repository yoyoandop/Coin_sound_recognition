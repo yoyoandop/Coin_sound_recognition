{
 "cells": [
  {
   "cell_type": "code",
   "execution_count": 40,
   "id": "d00f2072-d113-4b94-8aee-1416c36a7ae6",
   "metadata": {},
   "outputs": [],
   "source": [
    "import librosa\n",
    "import os\n",
    "import numpy as np\n",
    "\n",
    "# Input: Folder Path\n",
    "# Output: Tuple (Label, Indices of the labels, one-hot encoded labels)\n",
    "def get_labels(path=None, label=0):\n",
    "    labels = os.listdir(path)\n",
    "    label_indices = np.full_like(np.arange(0, len(labels)), label)\n",
    "    return labels, label_indices, None #, to_categorical(label_indices)\n",
    "\n",
    "# Handy function to convert wav2mfcc\n",
    "def wav2mfcc(file_path, max_pad_len=11):\n",
    "    wave, sr = librosa.load(file_path, mono=True, sr=None)\n",
    "    wave = wave[::3]\n",
    "    \n",
    "    # michael added to cut my audio file\n",
    "    i=0\n",
    "    # 訓練資料的長度\n",
    "    wav_length=5334\n",
    "    # 聲音檔過長，擷取片段\n",
    "    if len(wave) > wav_length:\n",
    "        # 尋找最大聲的點，取前後各半\n",
    "        i=np.argmax(wave)\n",
    "        if i > (wav_length):\n",
    "            wave = wave[i-int(wav_length/2):i+int(wav_length/2)]\n",
    "        else:\n",
    "            # 聲音檔過長，取前面\n",
    "            wave = wave[0:wav_length]\n",
    "    \n",
    "    mfcc = librosa.feature.mfcc(y=wave, sr=16000)\n",
    "    pad_width = max_pad_len - mfcc.shape[1]\n",
    "    if pad_width < 0:\n",
    "        pad_width = 0\n",
    "        mfcc = mfcc[:,:11]\n",
    "    mfcc = np.pad(mfcc, pad_width=((0, 0), (0, pad_width)), mode='constant')\n",
    "    return mfcc\n",
    "\n",
    "def save_data_to_array(path=None, label=0, max_pad_len=11):\n",
    "    labels, _, _ = get_labels(path, label)\n",
    "    mfcc_vectors = []\n",
    "    label_class = path.split('/')[-1]\n",
    "\n",
    "    for label in labels:\n",
    "        wavfile = path + '/' + label\n",
    "        # Init mfcc vectors\n",
    "\n",
    "        # for wavfile in wavfiles:\n",
    "        try:\n",
    "            mfcc = wav2mfcc(wavfile, max_pad_len=max_pad_len)\n",
    "            mfcc_vectors.append(mfcc)\n",
    "        except:\n",
    "            print(f'Error while loading file: {wavfile}')\n",
    "    np.save(label_class + '.npy', mfcc_vectors)\n",
    "\n",
    "def get_train_test(npy_filepath=[], split_ratio=0.6, random_state=42):\n",
    "    # Load npy files and merge them into a single array\n",
    "    X = np.load(npy_filepath[0])\n",
    "    y = np.zeros(X.shape[0])\n",
    "    for i, npy_file in enumerate(npy_filepath[1:], 1):\n",
    "        x = np.load(npy_file)\n",
    "        X = np.vstack((X, x))\n",
    "        y = np.append(y, np.full(x.shape[0], fill_value= (i)))\n",
    "\n",
    "    assert X.shape[0] == len(y)\n",
    "\n",
    "    return train_test_split(X, y, test_size= (1 - split_ratio), random_state=random_state, shuffle=True)\n",
    "\n",
    "def prepare_dataset(path, label):\n",
    "    labels, _, _ = get_labels(path=None, label=0)\n",
    "    data = {}\n",
    "    for label in labels:\n",
    "        data[label] = {}\n",
    "        data[label]['path'] = [path  + label + '/' + wavfile for wavfile in os.listdir(path + '/' + label)]\n",
    "\n",
    "        vectors = []\n",
    "\n",
    "        for wavfile in data[label]['path']:\n",
    "            wave, sr = librosa.load(wavfile, mono=True, sr=None)\n",
    "            # Downsampling\n",
    "            wave = wave[::3]\n",
    "            mfcc = librosa.feature.mfcc(wave, sr=16000)\n",
    "            vectors.append(mfcc)\n",
    "\n",
    "        data[label]['mfcc'] = vectors\n",
    "\n",
    "    return data\n",
    "\n",
    "def load_dataset(path):\n",
    "    data = prepare_dataset(path=None)\n",
    "\n",
    "    dataset = []\n",
    "\n",
    "    for key in data:\n",
    "        for mfcc in data[key]['mfcc']:\n",
    "            dataset.append((key, mfcc))\n",
    "\n",
    "    return dataset[:100]\n"
   ]
  },
  {
   "cell_type": "code",
   "execution_count": 41,
   "id": "5140d7d2-4078-4b26-9999-f0be1e2d7d1a",
   "metadata": {},
   "outputs": [
    {
     "name": "stderr",
     "output_type": "stream",
     "text": [
      "C:\\Users\\NDHU\\AppData\\Local\\Temp\\ipykernel_6104\\802211686.py:14: UserWarning: PySoundFile failed. Trying audioread instead.\n",
      "  wave, sr = librosa.load(file_path, mono=True, sr=None)\n",
      "C:\\Users\\NDHU\\anaconda3\\Lib\\site-packages\\librosa\\core\\audio.py:183: FutureWarning: librosa.core.audio.__audioread_load\n",
      "\tDeprecated as of librosa version 0.10.0.\n",
      "\tIt will be removed in librosa version 1.0.\n",
      "  y, sr_native = __audioread_load(path, offset, duration, dtype)\n"
     ]
    },
    {
     "name": "stdout",
     "output_type": "stream",
     "text": [
      "Error while loading file: ./data/1dollarmoney/1-129.wav\n",
      "Error while loading file: ./data/1dollarmoney/1-197.wav\n"
     ]
    }
   ],
   "source": [
    "save_data_to_array(path='./data/1dollarmoney', label=0, max_pad_len=11)\n",
    "save_data_to_array(path='./data/10dollarmoney', label=1, max_pad_len=11)\n",
    "save_data_to_array(path='./data/50dollarmoney', label=2, max_pad_len=11)"
   ]
  },
  {
   "cell_type": "code",
   "execution_count": 38,
   "id": "da0ba22a-ff11-4c73-bac8-53ba7fc36ab8",
   "metadata": {},
   "outputs": [],
   "source": [
    "from sklearn.model_selection import train_test_split\n",
    "\n",
    "def get_train_test(npy_filepath=[], split_ratio=0.6, random_state=42):\n",
    "    # Load npy files and merge them into a single array\n",
    "    X = np.load(npy_filepath[0])\n",
    "    y = np.zeros(X.shape[0])\n",
    "    for i, npy_file in enumerate(npy_filepath[1:], 1):\n",
    "        x = np.load(npy_file)\n",
    "        X = np.vstack((X, x))\n",
    "        y = np.append(y, np.full(x.shape[0], fill_value= (i)))\n",
    "\n",
    "    assert X.shape[0] == len(y)\n",
    "\n",
    "    return train_test_split(X, y, test_size= (1 - split_ratio), random_state=random_state, shuffle=True)"
   ]
  },
  {
   "cell_type": "code",
   "execution_count": 35,
   "id": "c717ec40-164b-4de1-be09-068b3f281845",
   "metadata": {},
   "outputs": [],
   "source": [
    "filepath_list = [\n",
    "    './1dollarmoney.npy',\n",
    "    './10dollarmoney.npy',\n",
    "    './50dollarmoney.npy',\n",
    "]\n",
    "X_train, X_test, y_train, y_test = get_train_test(npy_filepath=filepath_list)"
   ]
  },
  {
   "cell_type": "code",
   "execution_count": 36,
   "id": "5894b99a-cce5-4333-9c57-a3bc67fee926",
   "metadata": {},
   "outputs": [
    {
     "data": {
      "text/plain": [
       "array([0., 0., 0., 0., 0., 0., 0., 0., 0., 0., 0., 0., 0., 0., 0., 0., 0.,\n",
       "       0., 0., 0., 0., 0., 0., 0., 0., 0., 0., 0., 0., 0., 0., 0., 0., 0.,\n",
       "       0., 0., 0., 0., 0., 0., 0., 0., 0., 0., 0., 0., 0., 0., 0., 0., 0.,\n",
       "       0., 0., 0., 0., 0., 0., 0., 0., 0., 0., 0., 0., 0., 0., 0., 0., 0.,\n",
       "       0., 0., 0., 0., 0., 0., 0., 0., 0., 0., 0., 0., 0., 0., 0., 0., 0.,\n",
       "       0., 0., 0., 0., 0., 0., 0., 0., 0., 0., 0., 0., 0., 0., 0., 0., 0.,\n",
       "       0., 0., 0., 0., 0., 0., 0., 0., 0., 0., 0., 0., 0., 0., 0., 0., 0.,\n",
       "       0., 0., 0., 0., 0., 0., 0., 0., 0., 0., 0., 0., 0., 0., 0., 0., 0.,\n",
       "       0., 0., 0., 0., 0., 0., 0., 0., 0., 0., 0., 0., 0., 0., 0., 0., 0.,\n",
       "       0., 0., 0., 0., 0., 0., 0., 0., 0., 0., 0., 0., 0., 0., 0., 0., 0.,\n",
       "       0., 0., 0., 0., 0., 0., 0., 0., 0., 0., 0., 0., 0., 0., 0., 0., 0.,\n",
       "       0., 0., 0., 0., 0., 0., 0., 0., 0., 0., 0., 1., 1., 1., 1., 1., 1.,\n",
       "       1., 1., 1., 1., 1., 1., 1., 1., 1., 1., 1., 1., 1., 1., 1., 1., 1.,\n",
       "       1., 1., 1., 1., 1., 1., 1., 1., 1., 1., 1., 1., 1., 1., 1., 1., 1.,\n",
       "       1., 1., 1., 1., 1., 1., 1., 1., 1., 1., 1., 1., 1., 1., 1., 1., 1.,\n",
       "       1., 1., 1., 1., 1., 1., 1., 1., 1., 1., 1., 1., 1., 1., 1., 1., 1.,\n",
       "       1., 1., 1., 1., 1., 1., 1., 1., 1., 1., 1., 1., 1., 1., 1., 1., 1.,\n",
       "       1., 1., 1., 1., 1., 1., 1., 1., 1., 1., 1., 1., 1., 1., 1., 1., 1.,\n",
       "       1., 1., 1., 1., 1., 1., 1., 1., 1., 1., 1., 1., 1., 1., 1., 1., 1.,\n",
       "       1., 1., 1., 1., 1., 1., 1., 1., 1., 1., 1., 1., 1., 1., 1., 1., 1.,\n",
       "       1., 1., 1., 1., 1., 1., 1., 1., 1., 1., 1., 1., 1., 1., 1., 1., 1.,\n",
       "       1.])"
      ]
     },
     "execution_count": 36,
     "metadata": {},
     "output_type": "execute_result"
    }
   ],
   "source": [
    "y_train"
   ]
  },
  {
   "cell_type": "code",
   "execution_count": 37,
   "id": "2eb0cdc5-fb48-42a6-804f-39a2534f29aa",
   "metadata": {},
   "outputs": [
    {
     "data": {
      "text/plain": [
       "array([1., 1., 1., 1., 1., 1., 1., 1., 1., 1., 1., 1., 1., 1., 1., 1., 1.,\n",
       "       1., 1., 1., 1., 1., 1., 1., 1., 1., 1., 1., 1., 1., 1., 1., 1., 1.,\n",
       "       1., 1., 1., 1., 1., 1., 2., 2., 2., 2., 2., 2., 2., 2., 2., 2., 2.,\n",
       "       2., 2., 2., 2., 2., 2., 2., 2., 2., 2., 2., 2., 2., 2., 2., 2., 2.,\n",
       "       2., 2., 2., 2., 2., 2., 2., 2., 2., 2., 2., 2., 2., 2., 2., 2., 2.,\n",
       "       2., 2., 2., 2., 2., 2., 2., 2., 2., 2., 2., 2., 2., 2., 2., 2., 2.,\n",
       "       2., 2., 2., 2., 2., 2., 2., 2., 2., 2., 2., 2., 2., 2., 2., 2., 2.,\n",
       "       2., 2., 2., 2., 2., 2., 2., 2., 2., 2., 2., 2., 2., 2., 2., 2., 2.,\n",
       "       2., 2., 2., 2., 2., 2., 2., 2., 2., 2., 2., 2., 2., 2., 2., 2., 2.,\n",
       "       2., 2., 2., 2., 2., 2., 2., 2., 2., 2., 2., 2., 2., 2., 2., 2., 2.,\n",
       "       2., 2., 2., 2., 2., 2., 2., 2., 2., 2., 2., 2., 2., 2., 2., 2., 2.,\n",
       "       2., 2., 2., 2., 2., 2., 2., 2., 2., 2., 2., 2., 2., 2., 2., 2., 2.,\n",
       "       2., 2., 2., 2., 2., 2., 2., 2., 2., 2., 2., 2., 2., 2., 2., 2., 2.,\n",
       "       2., 2., 2., 2., 2., 2., 2., 2., 2., 2., 2., 2., 2., 2., 2., 2., 2.,\n",
       "       2., 2.])"
      ]
     },
     "execution_count": 37,
     "metadata": {},
     "output_type": "execute_result"
    }
   ],
   "source": [
    "y_test"
   ]
  },
  {
   "cell_type": "code",
   "execution_count": null,
   "id": "d3dc5546-2d51-46ae-a65c-c1b4b9047c5a",
   "metadata": {},
   "outputs": [],
   "source": []
  }
 ],
 "metadata": {
  "kernelspec": {
   "display_name": "Python 3 (ipykernel)",
   "language": "python",
   "name": "python3"
  },
  "language_info": {
   "codemirror_mode": {
    "name": "ipython",
    "version": 3
   },
   "file_extension": ".py",
   "mimetype": "text/x-python",
   "name": "python",
   "nbconvert_exporter": "python",
   "pygments_lexer": "ipython3",
   "version": "3.11.7"
  }
 },
 "nbformat": 4,
 "nbformat_minor": 5
}
